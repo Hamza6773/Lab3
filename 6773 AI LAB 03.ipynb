{
  "nbformat": 4,
  "nbformat_minor": 0,
  "metadata": {
    "colab": {
      "provenance": []
    },
    "kernelspec": {
      "name": "python3",
      "display_name": "Python 3"
    },
    "language_info": {
      "name": "python"
    }
  },
  "cells": [
    {
      "cell_type": "code",
      "source": [
        "\n",
        "from collections import deque\n",
        "\n",
        "def find_shortest_path(matrix):\n",
        "    if not matrix:\n",
        "        return None\n",
        "\n",
        "    start = (0, 0)\n",
        "    end = (1,2)\n",
        "\n",
        "    directions = [(-1, 0), (1, 0), (0, -1), (0, 1)]\n",
        "    queue = deque([(start[0], start[1], [])])\n",
        "    visited = {(start[0], start[1])}\n",
        "\n",
        "    while queue:\n",
        "        row, col, path = queue.popleft()\n",
        "\n",
        "        if row == end[0] and col == end[1]:\n",
        "            return path + [(row, col)]\n",
        "\n",
        "        for r, c in directions:\n",
        "            next_row, next_col = row + r, col + c\n",
        "            if 0 <= next_row < 4 and 0 <= next_col < 4 and (next_row, next_col) not in visited and matrix[next_row][next_col] != 1:\n",
        "                visited.add((next_row, next_col))\n",
        "                queue.append((next_row, next_col, path + [(row, col)]))\n",
        "\n",
        "    return None\n",
        "\n",
        "matrix = [[0, 0, 0, 0],\n",
        "          [0, 1, 0, 0],\n",
        "          [0, 0, 1, 0],\n",
        "          [0, 0, 0, 0]]\n",
        "print(find_shortest_path(matrix))"
      ],
      "metadata": {
        "colab": {
          "base_uri": "https://localhost:8080/"
        },
        "id": "luw_S-0bspdi",
        "outputId": "7cdddd1f-a13c-4780-dda1-317556c8e757"
      },
      "execution_count": 2,
      "outputs": [
        {
          "output_type": "stream",
          "name": "stdout",
          "text": [
            "[(0, 0), (0, 1), (0, 2), (1, 2)]\n"
          ]
        }
      ]
    },
    {
      "cell_type": "code",
      "source": [
        "import time\n",
        "\n",
        "def state_to_tuple(state_str):\n",
        "    digits = [int(ch) for ch in state_str]\n",
        "    return tuple(tuple(digits[i*3:(i+1)*3]) for i in range(3))\n",
        "\n",
        "def tuple_to_state(matrix):\n",
        "    return \"\".join(\"\".join(map(str, row)) for row in matrix)\n",
        "\n",
        "def get_moves(matrix):\n",
        "    possible_moves = []\n",
        "    for i in range(3):\n",
        "        for j in range(3):\n",
        "            if matrix[i][j] == 0:\n",
        "                if i > 0:\n",
        "                    new_matrix = [list(row) for row in matrix]\n",
        "                    new_matrix[i][j], new_matrix[i-1][j] = new_matrix[i-1][j], new_matrix[i][j]\n",
        "                    possible_moves.append(tuple(tuple(row) for row in new_matrix))\n",
        "                if i < 2:\n",
        "                    new_matrix = [list(row) for row in matrix]\n",
        "                    new_matrix[i][j], new_matrix[i+1][j] = new_matrix[i+1][j], new_matrix[i][j]\n",
        "                    possible_moves.append(tuple(tuple(row) for row in new_matrix))\n",
        "                if j > 0:\n",
        "                    new_matrix = [list(row) for row in matrix]\n",
        "                    new_matrix[i][j], new_matrix[i][j-1] = new_matrix[i][j-1], new_matrix[i][j]\n",
        "                    possible_moves.append(tuple(tuple(row) for row in new_matrix))\n",
        "                if j < 2:\n",
        "                    new_matrix = [list(row) for row in matrix]\n",
        "                    new_matrix[i][j], new_matrix[i][j+1] = new_matrix[i][j+1], new_matrix[i][j]\n",
        "                    possible_moves.append(tuple(tuple(row) for row in new_matrix))\n",
        "                return possible_moves\n",
        "    return possible_moves\n",
        "\n",
        "def dfs(start_state, goal_state):\n",
        "    stack = [(start_state, [start_state])]\n",
        "    visited = set([start_state])\n",
        "\n",
        "    while stack:\n",
        "        current_state, path = stack.pop()\n",
        "        if current_state == goal_state:\n",
        "            return path, visited\n",
        "\n",
        "        for move in get_moves(current_state):\n",
        "            if move not in visited:\n",
        "                visited.add(move)\n",
        "                stack.append((move, path + [move]))\n",
        "\n",
        "    return None, visited\n",
        "\n",
        "def main():\n",
        "    \"\"\"Main function to take input and execute the DFS algorithm.\"\"\"\n",
        "    start_state = input(\"Enter start State : \")\n",
        "    goal_state = input(\"Enter goal State : \")\n",
        "\n",
        "    start_tuple = state_to_tuple(start_state)\n",
        "    goal_tuple = state_to_tuple(goal_state)\n",
        "\n",
        "    print(\"-----------------\")\n",
        "    print(\"DFS Algorithm\")\n",
        "    print(\"-----------------\")\n",
        "\n",
        "    start_time = time.time()\n",
        "    solution_path, visited = dfs(start_tuple, goal_tuple)\n",
        "    end_time = time.time()\n",
        "\n",
        "    if solution_path:\n",
        "        print(\"Time taken:\", float(end_time - start_time), \"seconds\")\n",
        "        print(\"Path Cost:\", len(solution_path) - 1)\n",
        "        print(\"No of Nodes Visited:\", len(visited))\n",
        "        for state in solution_path:\n",
        "            for row in state:\n",
        "                print(' '.join(map(str, row)))\n",
        "            print(\"-----\")\n",
        "    else:\n",
        "        print(\"No solution found.\")\n",
        "\n",
        "if __name__ == \"__main__\":\n",
        "    main()\n"
      ],
      "metadata": {
        "id": "OcyAGch46Ek6"
      },
      "execution_count": null,
      "outputs": []
    },
    {
      "cell_type": "code",
      "source": [
        "class Graph:\n",
        "    def __init__(self, adjacency_list):\n",
        "        \"\"\"Initializes the graph with an adjacency list.\"\"\"\n",
        "        self.adjacency_list = adjacency_list\n",
        "\n",
        "    def get_neighbors(self, v):\n",
        "        return self.adjacency_list.get(v, [])\n",
        "\n",
        "    def h(self, n):\n",
        "        H = {\n",
        "            \"The\": 4,\n",
        "            \"cat\": 19,\n",
        "            \"dog\": 5,\n",
        "            \"runs\": 2,\n",
        "            \"fast\": 1\n",
        "        }\n",
        "        return H[n]\n",
        "\n",
        "    def a_star_algorithm(self, start_node, stop_node):\n",
        "\n",
        "        open_list = set([start_node])\n",
        "        closed_list = set()\n",
        "\n",
        "        g = {start_node: 0}\n",
        "\n",
        "        parents = {start_node: None}\n",
        "\n",
        "        while open_list:\n",
        "            n = None\n",
        "            for v in open_list:\n",
        "                if n is None or g[v] + self.h(v) < g[n] + self.h(n):\n",
        "                    n = v\n",
        "\n",
        "            if n == stop_node:\n",
        "                reconst_path = []\n",
        "                while n is not None:\n",
        "                    reconst_path.append(n)\n",
        "                    n = parents[n]\n",
        "                reconst_path.reverse()\n",
        "                print(\"Path found:\", reconst_path)\n",
        "                print(\"Total cost:\", g[stop_node])\n",
        "                return reconst_path\n",
        "\n",
        "            for (m, weight) in self.get_neighbors(n):\n",
        "                if m not in open_list and m not in closed_list:\n",
        "                    open_list.add(m)\n",
        "                    parents[m] = n\n",
        "                    g[m] = g[n] + weight\n",
        "                else:\n",
        "                    if g[m] > g[n] + weight:\n",
        "                        g[m] = g[n] + weight\n",
        "                        parents[m] = n\n",
        "                        if m in closed_list:\n",
        "                            closed_list.remove(m)\n",
        "                            open_list.add(m)\n",
        "\n",
        "            open_list.remove(n)\n",
        "            closed_list.add(n)\n",
        "\n",
        "        print(\"Path does not exist!\")\n",
        "        return None\n",
        "\n",
        "adjacency_list = {\n",
        "    \"The\": [(\"cat\", 2), (\"dog\", 3)],\n",
        "    \"cat\": [(\"runs\", 1)],\n",
        "    \"dog\": [(\"runs\", 2)],\n",
        "    \"runs\": [(\"fast\", 2)],\n",
        "    \"fast\": []\n",
        "}\n",
        "\n",
        "graph1 = Graph(adjacency_list)\n",
        "graph1.a_star_algorithm(\"The\", \"fast\")\n"
      ],
      "metadata": {
        "colab": {
          "base_uri": "https://localhost:8080/"
        },
        "id": "dhHiLH7VyM3l",
        "outputId": "4998add9-b8fe-4fde-c8d7-6844ad2e5c67"
      },
      "execution_count": 1,
      "outputs": [
        {
          "output_type": "stream",
          "name": "stdout",
          "text": [
            "Path found: ['The', 'dog', 'runs', 'fast']\n",
            "Total cost: 7\n"
          ]
        },
        {
          "output_type": "execute_result",
          "data": {
            "text/plain": [
              "['The', 'dog', 'runs', 'fast']"
            ]
          },
          "metadata": {},
          "execution_count": 1
        }
      ]
    }
  ]
}